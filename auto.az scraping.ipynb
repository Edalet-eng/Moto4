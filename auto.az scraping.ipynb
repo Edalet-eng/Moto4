{
 "cells": [
  {
   "cell_type": "code",
   "execution_count": 1,
   "id": "8b8eae7c",
   "metadata": {},
   "outputs": [
    {
     "name": "stderr",
     "output_type": "stream",
     "text": [
      "C:\\Users\\Edish\\AppData\\Local\\Programs\\Python\\Python39\\lib\\site-packages\\requests\\__init__.py:102: RequestsDependencyWarning: urllib3 (1.26.9) or chardet (5.2.0)/charset_normalizer (2.0.12) doesn't match a supported version!\n",
      "  warnings.warn(\"urllib3 ({}) or chardet ({})/charset_normalizer ({}) doesn't match a supported \"\n"
     ]
    }
   ],
   "source": [
    "import requests\n",
    "from bs4 import BeautifulSoup \n",
    "from csv import writer"
   ]
  },
  {
   "cell_type": "code",
   "execution_count": 2,
   "id": "fc048be8",
   "metadata": {},
   "outputs": [],
   "source": [
    "url = 'http://www.auto.az/cars/sold/1/page/1/'\n",
    "response = requests.get(url)\n",
    "html = response.text\n",
    "soup = BeautifulSoup(html,'lxml')\n",
    "page_content = soup.find('div',class_ = 'center_col')\n",
    "all_ = page_content.find_all('div',class_ = 'car_txt')\n",
    "items = page_content.find_all('div',class_ ='title')"
   ]
  },
  {
   "cell_type": "code",
   "execution_count": 3,
   "id": "c6c1cb6a",
   "metadata": {},
   "outputs": [],
   "source": [
    "errors = []"
   ]
  },
  {
   "cell_type": "code",
   "execution_count": 4,
   "id": "c860cb4a",
   "metadata": {},
   "outputs": [],
   "source": [
    "with open('auto2.csv', 'w', encoding='utf8',newline='') as f:\n",
    "    thewriter=writer(f)\n",
    "    header=['qiymet','şəhər','marka','model','buraxılış ili','ban növü','rəng','yürüş','sürətlər_qutusu','ötürücü','mühərrik_hecmi','mühərrik_gucu','yanacaq_novu','kredit','veziyyeti','tesvir','elave_techizat','yeniləndi']\n",
    "    thewriter.writerow(header)\n",
    "    for j in range(1,3):\n",
    "        for i in range(1,27):\n",
    "            url = f'http://www.auto.az/cars/sold/{j}/page/{i}/'\n",
    "            response = requests.get(url)\n",
    "            html = response.text\n",
    "            soup = BeautifulSoup(html,'lxml')\n",
    "            page_content = soup.find('div',class_ = 'center_col')\n",
    "            all_ = page_content.find_all('div',class_ = 'car_txt')\n",
    "            items = page_content.find_all('div',class_ ='title')\n",
    "            for item in items:\n",
    "                url2 = 'http://www.auto.az' + item.a['href']\n",
    "                reponse=requests.get(url2)\n",
    "                html=reponse.text\n",
    "                soup=BeautifulSoup(html,\"lxml\")\n",
    "                pc = soup.find('div',class_ = 'el_n_self')\n",
    "                pc.find_all('div',class_ = 'eln_right')[0].text\n",
    "                details = pc.find_all('div',class_ = 'eln_right')[0].text.split('\\n\\n\\n')\n",
    "                marka = details[1].split('\\n')[1]\n",
    "                model = details[2].split('\\n')[1]\n",
    "                buraxılış_ili = details[3].split('\\n')[1]\n",
    "                yürüş = details[4].split('\\n')[1]\n",
    "                ban_növü = details[5].split('\\n')[1]\n",
    "                mühərrik_hecmi = int(details[6].split('\\n')[1].split()[0])/1000\n",
    "                yanacaq_novu = details[6].split('\\n')[1].split()[2]\n",
    "                mühərrik_gucu = details[7].split('\\n')[1]\n",
    "                sürətlər_qutusu = details[8].split('\\n')[1]\n",
    "                ötürücü = details[9].split('\\n')[1]\n",
    "                rəng = details[10].split('\\n')[1]\n",
    "                vəziyyəti = details[11].split('\\n')[1]\n",
    "                kredit = details[12].split('\\n')[1]\n",
    "                try: \n",
    "                    tesvir = pc.find_all('div',class_ = 'eln_desc')[0].text\n",
    "                except:\n",
    "                    errors.append(('Tesvir', url))\n",
    "                try:  \n",
    "                    elave_techizat = pc.find_all('div',class_ = 'eln_desc')[1].text\n",
    "                except:\n",
    "                    errors.append(('Elave Techizat', url))\n",
    "                şəhər = pc.find_all('div',class_ = 'eln_right')[1].text.split('\\n\\n')[2].split('\\n')[1]\n",
    "                try:\n",
    "                    yeniləndi = pc.find_all('div',class_ = 'eln_right')[1].text.split('\\n\\n')[3].split('\\n')[2]\n",
    "                except:\n",
    "                    errors.append(('Yenilendi', url))\n",
    "                qiymet = soup.find('div',class_ = 'el_n_self').b.text\n",
    "                info=[qiymet,şəhər,marka,model,buraxılış_ili,ban_növü,rəng,yürüş,sürətlər_qutusu,ötürücü,mühərrik_hecmi,mühərrik_gucu,yanacaq_novu,kredit,vəziyyəti,tesvir,elave_techizat,yeniləndi]\n",
    "                thewriter.writerow(info)"
   ]
  },
  {
   "cell_type": "code",
   "execution_count": 5,
   "id": "143bb14c",
   "metadata": {},
   "outputs": [
    {
     "data": {
      "text/plain": [
       "594"
      ]
     },
     "execution_count": 5,
     "metadata": {},
     "output_type": "execute_result"
    }
   ],
   "source": [
    "len(errors)"
   ]
  },
  {
   "cell_type": "code",
   "execution_count": null,
   "id": "bec263a3",
   "metadata": {},
   "outputs": [],
   "source": []
  }
 ],
 "metadata": {
  "kernelspec": {
   "display_name": "Python 3 (ipykernel)",
   "language": "python",
   "name": "python3"
  },
  "language_info": {
   "codemirror_mode": {
    "name": "ipython",
    "version": 3
   },
   "file_extension": ".py",
   "mimetype": "text/x-python",
   "name": "python",
   "nbconvert_exporter": "python",
   "pygments_lexer": "ipython3",
   "version": "3.9.12"
  }
 },
 "nbformat": 4,
 "nbformat_minor": 5
}
